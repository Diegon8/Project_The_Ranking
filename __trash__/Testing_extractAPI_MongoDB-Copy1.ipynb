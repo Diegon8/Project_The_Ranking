{
 "cells": [
  {
   "cell_type": "code",
   "execution_count": 2,
   "metadata": {},
   "outputs": [],
   "source": [
    "#Importing all the tools\n",
    "#API_extraction\n",
    "import os\n",
    "from dotenv import load_dotenv\n",
    "import json\n",
    "import requests\n",
    "load_dotenv()\n",
    "from IPython.display import display, Image\n",
    "import re\n",
    "import math\n",
    "import pymongo\n",
    "from pymongo import MongoClient\n",
    "import itertools\n"
   ]
  },
  {
   "cell_type": "code",
   "execution_count": null,
   "metadata": {},
   "outputs": [],
   "source": [
    "#Extracting pull request info from API(Not sure how to navigate through pages)\n",
    "#All of them or only the closed ones??????\n",
    "\n",
    "def requestGitHub (n=1, token=os.getenv(\"apikey\"),queryParams={}):\n",
    "    \n",
    "    baseUrl='https://api.github.com'\n",
    "    endpoint = f'/repos/ironhack-datalabs/datamad0820/pulls?page={n}&q=state%3Aall'\n",
    "\n",
    "    url = baseUrl+endpoint\n",
    "\n",
    "    headers = {\n",
    "        \"Authorization\": f\"token {token}\"}\n",
    "\n",
    "    res = requests.get(url, headers=headers)\n",
    "    \n",
    "    response = res.json()\n",
    "    \n",
    "    if res.status_code != 200:\n",
    "        raise ValueError(f'Invalid github api call: {data[\"message\"]}')\n",
    "    \n",
    "    return response\n"
   ]
  },
  {
   "cell_type": "code",
   "execution_count": null,
   "metadata": {},
   "outputs": [],
   "source": [
    "data = requestGitHub()"
   ]
  },
  {
   "cell_type": "code",
   "execution_count": null,
   "metadata": {},
   "outputs": [],
   "source": [
    "'''data[0]'''"
   ]
  },
  {
   "cell_type": "code",
   "execution_count": null,
   "metadata": {},
   "outputs": [],
   "source": [
    "'''display(data[0]['user'])\n",
    "''''''display(data[0]['body'])'''"
   ]
  },
  {
   "cell_type": "code",
   "execution_count": null,
   "metadata": {},
   "outputs": [],
   "source": [
    "x=11\n",
    "\n",
    "print(re.search(r'[lab-].*\\]',data[x]['title']).group().split(']')[0])\n",
    "\n",
    "print(data[x]['user']['login'])\n",
    "\n",
    "print(re.search(r\"\\] ([A-Za-z0-9-]+ [A-Za-z0-9-]+)\", data[x]['title']).group(1))\n",
    "\n",
    "if data[x]['assignee']['login'] == None:\n",
    "    print('not assigned yet')\n",
    "else:\n",
    "    print(data[x]['assignee']['login'])\n",
    "\n",
    "print(data[x]['created_at'].replace('T',' ').replace('Z',''))\n",
    "\n",
    "if data[x]['closed_at'] == None:\n",
    "    print('Not closed yet')\n",
    "else:\n",
    "    print(data[x]['closed_at'].replace('T',' ').replace('Z',''))"
   ]
  },
  {
   "cell_type": "code",
   "execution_count": null,
   "metadata": {},
   "outputs": [],
   "source": [
    "display(Image('https://user-images.githubusercontent.com/68472164/93796393-12fc0e00-fc3b-11ea-8abc-ce360f97083f.png'))"
   ]
  },
  {
   "cell_type": "markdown",
   "metadata": {},
   "source": [
    "# API EXTRACTION"
   ]
  },
  {
   "cell_type": "code",
   "execution_count": 3,
   "metadata": {},
   "outputs": [],
   "source": [
    "\n",
    "def getRequests(endpoint, token=os.getenv(\"apikey\"), query_params={}):\n",
    "\n",
    "    baseUrl = \"https://api.github.com\"\n",
    "    url = f\"{baseUrl}{endpoint}\"\n",
    "\n",
    "    headers = {\n",
    "        \"Authorization\": f\"token {token}\"\n",
    "    }\n",
    "\n",
    "    res = requests.get(url, params=query_params, headers=headers)\n",
    "\n",
    "    data = res.json()\n",
    "\n",
    "    if res.status_code != 200:\n",
    "        raise ValueError(f'Invalid github api call: {data[\"message\"]}')\n",
    "\n",
    "    return data"
   ]
  },
  {
   "cell_type": "code",
   "execution_count": 4,
   "metadata": {},
   "outputs": [],
   "source": [
    "sample1 = getRequests(\"/repos/ironhack-datalabs/datamad0820/pulls\",query_params={'state': 'all', 'page' : 1, \"per_page\":1})"
   ]
  },
  {
   "cell_type": "code",
   "execution_count": 5,
   "metadata": {},
   "outputs": [],
   "source": [
    "def extractWantedData(data):\n",
    "\n",
    "    \"\"\"Create a dictionary with the selected information received from the github api\"\"\"\n",
    "    dictionary=[]\n",
    "    for x in range(0,len(data)):\n",
    "        try:\n",
    "            name={'number':data[x]['number'],\n",
    "            'title':re.match('\\[(.*?)\\]',data[x]['title'],re.IGNORECASE).group(1).replace('-',' '),\n",
    "            'user':data[x]['user']['login'],\n",
    "            'state':data[x]['state'],\n",
    "            'created_at':data[x]['created_at'],\n",
    "            'updated_at':data[x]['updated_at'],\n",
    "            'closed_at':data[x]['closed_at'],\n",
    "            'TA':data[x]['assignee']['login'],\n",
    "            'html_url':data[x]['html_url'],\n",
    "            'meme':'no'\n",
    "            }\n",
    "            dictionary.append(name)\n",
    "    \n",
    "        except:\n",
    "            name={'number':data[x]['number'],\n",
    "            'title':re.match('\\[(.*?)\\]',data[x-1]['title'],re.IGNORECASE).group(1).replace('-',' '),\n",
    "            'user':data[x]['user']['login'],\n",
    "            'state':data[x]['state'],\n",
    "            'created_at':data[x]['created_at'],\n",
    "            'updated_at':data[x]['updated_at'],\n",
    "            'closed_at':data[x]['closed_at'],\n",
    "            'TA':'none',\n",
    "            'html_url':data[x]['html_url'],\n",
    "            'meme':'no'\n",
    "            }\n",
    "            dictionary.append(name)\n",
    "            \n",
    "    return dictionary"
   ]
  },
  {
   "cell_type": "code",
   "execution_count": 6,
   "metadata": {},
   "outputs": [],
   "source": [
    "npages = getRequests(\"/repos/ironhack-datalabs/datamad0820/pulls\",query_params={'state': 'all', 'page' : 1, \"per_page\":100})[0]['number']\n",
    "\n",
    "def getDataDict(npages):\n",
    "    \"\"\"Get the information from all the github issues pages from a selected repository\"\"\"\n",
    "    pulls = []\n",
    "    for i in range(1, math.ceil(npages/100) + 1):\n",
    "        pulls.append(extractWantedData(getRequests(\"/repos/ironhack-datalabs/datamad0820/pulls\",query_params={'state': 'all', 'page' : i, \"per_page\":100})))\n",
    "    clean_data = list(itertools.chain.from_iterable(pulls))\n",
    "    return clean_data\n"
   ]
  },
  {
   "cell_type": "code",
   "execution_count": 7,
   "metadata": {},
   "outputs": [],
   "source": [
    "list_pulls = getDataDict(npages)"
   ]
  },
  {
   "cell_type": "code",
   "execution_count": 8,
   "metadata": {},
   "outputs": [
    {
     "data": {
      "text/plain": [
       "518"
      ]
     },
     "execution_count": 8,
     "metadata": {},
     "output_type": "execute_result"
    }
   ],
   "source": [
    "len(list_pulls)"
   ]
  },
  {
   "cell_type": "code",
   "execution_count": 9,
   "metadata": {},
   "outputs": [
    {
     "data": {
      "text/plain": [
       "list"
      ]
     },
     "execution_count": 9,
     "metadata": {},
     "output_type": "execute_result"
    }
   ],
   "source": [
    "type(list_pulls)"
   ]
  },
  {
   "cell_type": "code",
   "execution_count": 10,
   "metadata": {},
   "outputs": [
    {
     "data": {
      "text/plain": [
       "dict"
      ]
     },
     "execution_count": 10,
     "metadata": {},
     "output_type": "execute_result"
    }
   ],
   "source": [
    "type(list_pulls[0])"
   ]
  },
  {
   "cell_type": "code",
   "execution_count": 11,
   "metadata": {},
   "outputs": [],
   "source": [
    "#Importing tools\n",
    "#MongoDB\n",
    "from pymongo import MongoClient"
   ]
  },
  {
   "cell_type": "code",
   "execution_count": 12,
   "metadata": {},
   "outputs": [],
   "source": [
    "PORT = os.getenv('PORT')\n",
    "DBURL = os.getenv('DBURL')"
   ]
  },
  {
   "cell_type": "code",
   "execution_count": 13,
   "metadata": {},
   "outputs": [],
   "source": [
    "def Import_to_mongoDB(lista):\n",
    "    \"\"\"Upload the info extractred from github to mongodb\"\"\"\n",
    "    client = MongoClient(port=27017)\n",
    "    db=client.RankingDB\n",
    "    for x in range(0,len(lista)):\n",
    "        result = db.pulls.insert_one(lista[x])\n",
    "    print(f'finished creating {len(lista)} pull requests')"
   ]
  },
  {
   "cell_type": "code",
   "execution_count": 14,
   "metadata": {},
   "outputs": [
    {
     "name": "stdout",
     "output_type": "stream",
     "text": [
      "finished creating 518 pull requests\n"
     ]
    }
   ],
   "source": [
    "Import_to_mongoDB(list_pulls)"
   ]
  },
  {
   "cell_type": "code",
   "execution_count": null,
   "metadata": {},
   "outputs": [],
   "source": [
    "PORT\n"
   ]
  },
  {
   "cell_type": "code",
   "execution_count": null,
   "metadata": {},
   "outputs": [],
   "source": [
    "#sample1"
   ]
  },
  {
   "cell_type": "markdown",
   "metadata": {},
   "source": [
    "#  WEBSCRAPING"
   ]
  },
  {
   "cell_type": "code",
   "execution_count": 15,
   "metadata": {},
   "outputs": [],
   "source": [
    "import requests\n",
    "import bs4\n",
    "import re\n",
    "import itertools\n",
    "import time\n",
    "import json\n"
   ]
  },
  {
   "cell_type": "code",
   "execution_count": 16,
   "metadata": {},
   "outputs": [],
   "source": [
    "url  = 'https://github.com/ironhack-datalabs/datamad0820/network/members'"
   ]
  },
  {
   "cell_type": "code",
   "execution_count": 17,
   "metadata": {},
   "outputs": [],
   "source": [
    "def getUsers(url):\n",
    "    res = requests.get(url)\n",
    "    soup = bs4.BeautifulSoup(res.text, 'lxml')\n",
    "    users = re.findall(\"@\\w+\\S\\w\\w*\", str(soup))\n",
    "    users = list(set(users))\n",
    "    unwanted_users =['@ferrero-felipe', '@WHYTEWYLL', '@agalvezcorell', '@github', '@ironhack-datalabs']\n",
    "    for i in unwanted_users:\n",
    "        if i in users:\n",
    "            users.remove(i)\n",
    "    dic_users = { i : users[i] for i in range(0, len(users) ) }\n",
    "    dic_users = {v: k for k, v in dic_users.items()}\n",
    "    return dic_users"
   ]
  },
  {
   "cell_type": "code",
   "execution_count": 18,
   "metadata": {},
   "outputs": [],
   "source": [
    "def split_dict(input_dict, chunks=28):\n",
    "    \"Splits dict by keys. Returns a list of dictionaries.\"\n",
    "    # prep with empty dicts\n",
    "    return_list = [dict() for idx in range(chunks)]\n",
    "    idx = 0\n",
    "    for k,v in input_dict.items():\n",
    "        return_list[idx][k] = v\n",
    "        if idx < chunks-1:  # indexes start at 0\n",
    "            idx += 1\n",
    "        else:\n",
    "            idx = 0\n",
    "    return return_list"
   ]
  },
  {
   "cell_type": "code",
   "execution_count": 19,
   "metadata": {},
   "outputs": [
    {
     "data": {
      "text/plain": [
       "[{'@bmedm': 0},\n",
       " {'@Alvere': 1},\n",
       " {'@miguelgimenezgimenez': 2},\n",
       " {'@Daniel-GarciaGarcia': 3},\n",
       " {'@rfminguez': 4},\n",
       " {'@RobotKidz': 5},\n",
       " {'@MigeruDono': 6},\n",
       " {'@AnaMA96': 7},\n",
       " {'@marta-zavala': 8},\n",
       " {'@Gon41': 9},\n",
       " {'@silviaherf': 10},\n",
       " {'@gontzalm': 11},\n",
       " {'@DiegoCaulonga': 12},\n",
       " {'@VanessaMacC': 13},\n",
       " {'@IreneLopezLujan': 14},\n",
       " {'@jmena23': 15},\n",
       " {'@laura290': 16},\n",
       " {'@PaulaNuno': 17},\n",
       " {'@jorge-alamillos': 18},\n",
       " {'@grundius1': 19},\n",
       " {'@Diegon8': 20},\n",
       " {'@Joycelili': 21},\n",
       " {'@CarlosSanzDGP': 22},\n",
       " {'@charliesket': 23},\n",
       " {'@Davidlazarog': 24},\n",
       " {'@FDELTA': 25},\n",
       " {'@Jav1-Mart1nez': 26},\n",
       " {'@KevsDe': 27}]"
      ]
     },
     "execution_count": 19,
     "metadata": {},
     "output_type": "execute_result"
    }
   ],
   "source": [
    "s_users = split_dict(getUsers(url))\n",
    "s_users"
   ]
  },
  {
   "cell_type": "code",
   "execution_count": 20,
   "metadata": {},
   "outputs": [],
   "source": [
    "def import_users(lista):\n",
    "    client = MongoClient(port=27017)\n",
    "    db=client.RankingDB\n",
    "    for x in range(0,len(lista)):\n",
    "        result = db.users.insert_one(lista[x])\n",
    "    print(f'finished adding {len(lista)} users')\n",
    "    "
   ]
  },
  {
   "cell_type": "code",
   "execution_count": 21,
   "metadata": {},
   "outputs": [
    {
     "name": "stdout",
     "output_type": "stream",
     "text": [
      "finished adding 28 users\n"
     ]
    }
   ],
   "source": [
    "import_users(s_users)"
   ]
  },
  {
   "cell_type": "code",
   "execution_count": null,
   "metadata": {},
   "outputs": [],
   "source": []
  },
  {
   "cell_type": "code",
   "execution_count": null,
   "metadata": {},
   "outputs": [],
   "source": []
  },
  {
   "cell_type": "code",
   "execution_count": null,
   "metadata": {},
   "outputs": [],
   "source": []
  }
 ],
 "metadata": {
  "kernelspec": {
   "display_name": "Python 3",
   "language": "python",
   "name": "python3"
  },
  "language_info": {
   "codemirror_mode": {
    "name": "ipython",
    "version": 3
   },
   "file_extension": ".py",
   "mimetype": "text/x-python",
   "name": "python",
   "nbconvert_exporter": "python",
   "pygments_lexer": "ipython3",
   "version": "3.8.2"
  }
 },
 "nbformat": 4,
 "nbformat_minor": 4
}
